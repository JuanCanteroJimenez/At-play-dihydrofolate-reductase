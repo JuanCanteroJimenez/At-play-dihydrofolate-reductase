{
 "cells": [
  {
   "cell_type": "code",
   "execution_count": 1,
   "metadata": {},
   "outputs": [],
   "source": [
    "import pandas as pd\n",
    "from Bio import SeqIO"
   ]
  },
  {
   "cell_type": "code",
   "execution_count": 2,
   "metadata": {},
   "outputs": [
    {
     "data": {
      "text/plain": [
       "SeqRecord(seq=Seq('MFLLLNCIVAVSQNMGIGKNGDLPRPPLRNEFRYFQRMTTTSSVEGKQNLVIMG...KDD'), id='sp|Q86XF0|DYR2_HUMAN', name='sp|Q86XF0|DYR2_HUMAN', description='sp|Q86XF0|DYR2_HUMAN Dihydrofolate reductase 2, mitochondrial OS=Homo sapiens OX=9606 GN=DHFR2 PE=1 SV=1', dbxrefs=[])"
      ]
     },
     "execution_count": 2,
     "metadata": {},
     "output_type": "execute_result"
    }
   ],
   "source": [
    "records = list(SeqIO.parse(\"uniprot-dihydrofolate+reductase.fasta\",\"fasta\"))\n",
    "records[0]"
   ]
  },
  {
   "cell_type": "code",
   "execution_count": 3,
   "metadata": {},
   "outputs": [],
   "source": [
    "with open(\"uniprot-dihydrofolate+reductase.fasta\") as fasta_file:\n",
    "    identifiers = []\n",
    "    lengths = []\n",
    "    description = []\n",
    "    sequences = []\n",
    "    for seq_record  in SeqIO.parse(fasta_file, \"fasta\"):\n",
    "        identifiers.append(str(seq_record.id))\n",
    "        lengths.append(len(seq_record.seq))\n",
    "        description.append(str(seq_record.description))\n",
    "        sequences.append(str(seq_record.seq))\n",
    "        \n",
    "    "
   ]
  },
  {
   "cell_type": "code",
   "execution_count": 6,
   "metadata": {},
   "outputs": [
    {
     "data": {
      "text/html": [
       "<div>\n",
       "<style scoped>\n",
       "    .dataframe tbody tr th:only-of-type {\n",
       "        vertical-align: middle;\n",
       "    }\n",
       "\n",
       "    .dataframe tbody tr th {\n",
       "        vertical-align: top;\n",
       "    }\n",
       "\n",
       "    .dataframe thead th {\n",
       "        text-align: right;\n",
       "    }\n",
       "</style>\n",
       "<table border=\"1\" class=\"dataframe\">\n",
       "  <thead>\n",
       "    <tr style=\"text-align: right;\">\n",
       "      <th></th>\n",
       "      <th>entry</th>\n",
       "      <th>entry_name</th>\n",
       "      <th>status</th>\n",
       "      <th>protein_names</th>\n",
       "      <th>gene_names</th>\n",
       "      <th>organism</th>\n",
       "      <th>length</th>\n",
       "      <th>taxonomic</th>\n",
       "      <th>EC</th>\n",
       "    </tr>\n",
       "  </thead>\n",
       "  <tbody>\n",
       "    <tr>\n",
       "      <th>0</th>\n",
       "      <td>Q86XF0</td>\n",
       "      <td>DYR2_HUMAN</td>\n",
       "      <td>reviewed</td>\n",
       "      <td>Dihydrofolate reductase 2, mitochondrial (Dihy...</td>\n",
       "      <td>DHFR2 DHFRL1 DHFRP4</td>\n",
       "      <td>Homo sapiens (Human)</td>\n",
       "      <td>187</td>\n",
       "      <td>cellular organisms, Eukaryota, Opisthokonta, M...</td>\n",
       "      <td>1.5.1.3</td>\n",
       "    </tr>\n",
       "    <tr>\n",
       "      <th>1</th>\n",
       "      <td>Q05762</td>\n",
       "      <td>DRTS1_ARATH</td>\n",
       "      <td>reviewed</td>\n",
       "      <td>Bifunctional dihydrofolate reductase-thymidyla...</td>\n",
       "      <td>THY-1 At2g16370 F16F14.13</td>\n",
       "      <td>Arabidopsis thaliana (Mouse-ear cress)</td>\n",
       "      <td>519</td>\n",
       "      <td>cellular organisms, Eukaryota, Viridiplantae, ...</td>\n",
       "      <td>1.5.1.3; 2.1.1.45</td>\n",
       "    </tr>\n",
       "    <tr>\n",
       "      <th>2</th>\n",
       "      <td>P00383</td>\n",
       "      <td>DYR21_ECOLX</td>\n",
       "      <td>reviewed</td>\n",
       "      <td>Dihydrofolate reductase type 2 (EC 1.5.1.3) (D...</td>\n",
       "      <td>NaN</td>\n",
       "      <td>Escherichia coli</td>\n",
       "      <td>78</td>\n",
       "      <td>cellular organisms, Bacteria, Proteobacteria, ...</td>\n",
       "      <td>1.5.1.3</td>\n",
       "    </tr>\n",
       "    <tr>\n",
       "      <th>3</th>\n",
       "      <td>P13922</td>\n",
       "      <td>DRTS_PLAFK</td>\n",
       "      <td>reviewed</td>\n",
       "      <td>Bifunctional dihydrofolate reductase-thymidyla...</td>\n",
       "      <td>NaN</td>\n",
       "      <td>Plasmodium falciparum (isolate K1 / Thailand)</td>\n",
       "      <td>608</td>\n",
       "      <td>cellular organisms, Eukaryota, Sar, Alveolata,...</td>\n",
       "      <td>1.5.1.3; 2.1.1.45</td>\n",
       "    </tr>\n",
       "    <tr>\n",
       "      <th>4</th>\n",
       "      <td>P00374</td>\n",
       "      <td>DYR_HUMAN</td>\n",
       "      <td>reviewed</td>\n",
       "      <td>Dihydrofolate reductase (EC 1.5.1.3)</td>\n",
       "      <td>DHFR</td>\n",
       "      <td>Homo sapiens (Human)</td>\n",
       "      <td>187</td>\n",
       "      <td>cellular organisms, Eukaryota, Opisthokonta, M...</td>\n",
       "      <td>1.5.1.3</td>\n",
       "    </tr>\n",
       "  </tbody>\n",
       "</table>\n",
       "</div>"
      ],
      "text/plain": [
       "    entry   entry_name    status  \\\n",
       "0  Q86XF0   DYR2_HUMAN  reviewed   \n",
       "1  Q05762  DRTS1_ARATH  reviewed   \n",
       "2  P00383  DYR21_ECOLX  reviewed   \n",
       "3  P13922   DRTS_PLAFK  reviewed   \n",
       "4  P00374    DYR_HUMAN  reviewed   \n",
       "\n",
       "                                       protein_names  \\\n",
       "0  Dihydrofolate reductase 2, mitochondrial (Dihy...   \n",
       "1  Bifunctional dihydrofolate reductase-thymidyla...   \n",
       "2  Dihydrofolate reductase type 2 (EC 1.5.1.3) (D...   \n",
       "3  Bifunctional dihydrofolate reductase-thymidyla...   \n",
       "4               Dihydrofolate reductase (EC 1.5.1.3)   \n",
       "\n",
       "                  gene_names                                       organism  \\\n",
       "0        DHFR2 DHFRL1 DHFRP4                           Homo sapiens (Human)   \n",
       "1  THY-1 At2g16370 F16F14.13         Arabidopsis thaliana (Mouse-ear cress)   \n",
       "2                        NaN                               Escherichia coli   \n",
       "3                        NaN  Plasmodium falciparum (isolate K1 / Thailand)   \n",
       "4                       DHFR                           Homo sapiens (Human)   \n",
       "\n",
       "   length                                          taxonomic  \\\n",
       "0     187  cellular organisms, Eukaryota, Opisthokonta, M...   \n",
       "1     519  cellular organisms, Eukaryota, Viridiplantae, ...   \n",
       "2      78  cellular organisms, Bacteria, Proteobacteria, ...   \n",
       "3     608  cellular organisms, Eukaryota, Sar, Alveolata,...   \n",
       "4     187  cellular organisms, Eukaryota, Opisthokonta, M...   \n",
       "\n",
       "                  EC  \n",
       "0            1.5.1.3  \n",
       "1  1.5.1.3; 2.1.1.45  \n",
       "2            1.5.1.3  \n",
       "3  1.5.1.3; 2.1.1.45  \n",
       "4            1.5.1.3  "
      ]
     },
     "execution_count": 6,
     "metadata": {},
     "output_type": "execute_result"
    }
   ],
   "source": [
    "with open(\"uniprot-dihydrofolate+reductase.tab\") as tab_file:\n",
    "    data = pd.read_csv(tab_file, sep=\"\\t\", header=0, names=[\"entry\",\n",
    "                                                           \"entry_name\",\n",
    "                                                           \"status\",\n",
    "                                                           \"protein_names\",\n",
    "                                                           \"gene_names\",\n",
    "                                                           \"organism\",\n",
    "                                                           \"length\",\n",
    "                                                           \"taxonomic\",\n",
    "                                                           \"EC\"])\n",
    "    \n",
    "data.head()\n"
   ]
  },
  {
   "cell_type": "code",
   "execution_count": 9,
   "metadata": {},
   "outputs": [],
   "source": [
    "data_n_na = data.dropna( subset=[\"EC\"])"
   ]
  },
  {
   "cell_type": "code",
   "execution_count": 10,
   "metadata": {},
   "outputs": [
    {
     "data": {
      "text/plain": [
       "(37469, 9)"
      ]
     },
     "execution_count": 10,
     "metadata": {},
     "output_type": "execute_result"
    }
   ],
   "source": [
    "data_n_na.shape"
   ]
  },
  {
   "cell_type": "code",
   "execution_count": 16,
   "metadata": {},
   "outputs": [],
   "source": [
    "idx_ec = data_n_na.protein_names.str.contains(\"1.5.1.3\")"
   ]
  },
  {
   "cell_type": "code",
   "execution_count": 17,
   "metadata": {},
   "outputs": [],
   "source": [
    "data_ec = data_n_na[idx_ec]"
   ]
  },
  {
   "cell_type": "code",
   "execution_count": 20,
   "metadata": {},
   "outputs": [
    {
     "data": {
      "text/plain": [
       "count    37114.000000\n",
       "mean       176.717061\n",
       "std         59.774806\n",
       "min         23.000000\n",
       "25%        161.000000\n",
       "50%        166.000000\n",
       "75%        174.000000\n",
       "max       1534.000000\n",
       "Name: length, dtype: float64"
      ]
     },
     "execution_count": 20,
     "metadata": {},
     "output_type": "execute_result"
    }
   ],
   "source": [
    "data_ec.length.describe()"
   ]
  },
  {
   "cell_type": "code",
   "execution_count": 21,
   "metadata": {},
   "outputs": [
    {
     "data": {
      "text/plain": [
       "<AxesSubplot:>"
      ]
     },
     "execution_count": 21,
     "metadata": {},
     "output_type": "execute_result"
    },
    {
     "data": {
      "image/png": "[encoded data removed]",
      "text/plain": [
       "<Figure size 432x288 with 1 Axes>"
      ]
     },
     "metadata": {
      "needs_background": "light"
     },
     "output_type": "display_data"
    }
   ],
   "source": [
    "data_ec.length.hist()"
   ]
  },
  {
   "cell_type": "code",
   "execution_count": 22,
   "metadata": {},
   "outputs": [
    {
     "data": {
      "text/plain": [
       "entry               0\n",
       "entry_name          0\n",
       "status              0\n",
       "protein_names       0\n",
       "gene_names       2192\n",
       "organism            0\n",
       "length              0\n",
       "taxonomic           0\n",
       "EC                  0\n",
       "dtype: int64"
      ]
     },
     "execution_count": 22,
     "metadata": {},
     "output_type": "execute_result"
    }
   ],
   "source": [
    "data_ec.isna().sum()"
   ]
  },
  {
   "cell_type": "code",
   "execution_count": 32,
   "metadata": {},
   "outputs": [],
   "source": [
    "idx = data_ec.EC == \"1.5.1.3\" "
   ]
  },
  {
   "cell_type": "code",
   "execution_count": 33,
   "metadata": {},
   "outputs": [
    {
     "data": {
      "text/plain": [
       "36323"
      ]
     },
     "execution_count": 33,
     "metadata": {},
     "output_type": "execute_result"
    }
   ],
   "source": [
    "idx.sum()"
   ]
  },
  {
   "cell_type": "code",
   "execution_count": 34,
   "metadata": {},
   "outputs": [],
   "source": [
    "data_ec_g = data_ec[idx]"
   ]
  },
  {
   "cell_type": "code",
   "execution_count": 36,
   "metadata": {},
   "outputs": [
    {
     "data": {
      "text/plain": [
       "<AxesSubplot:>"
      ]
     },
     "execution_count": 36,
     "metadata": {},
     "output_type": "execute_result"
    },
    {
     "data": {
      "image/png": "[encoded data removed]",
      "text/plain": [
       "<Figure size 432x288 with 1 Axes>"
      ]
     },
     "metadata": {
      "needs_background": "light"
     },
     "output_type": "display_data"
    }
   ],
   "source": [
    "data_ec_g.length.hist()"
   ]
  },
  {
   "cell_type": "code",
   "execution_count": 37,
   "metadata": {},
   "outputs": [
    {
     "data": {
      "text/html": [
       "<div>\n",
       "<style scoped>\n",
       "    .dataframe tbody tr th:only-of-type {\n",
       "        vertical-align: middle;\n",
       "    }\n",
       "\n",
       "    .dataframe tbody tr th {\n",
       "        vertical-align: top;\n",
       "    }\n",
       "\n",
       "    .dataframe thead th {\n",
       "        text-align: right;\n",
       "    }\n",
       "</style>\n",
       "<table border=\"1\" class=\"dataframe\">\n",
       "  <thead>\n",
       "    <tr style=\"text-align: right;\">\n",
       "      <th></th>\n",
       "      <th>length</th>\n",
       "    </tr>\n",
       "  </thead>\n",
       "  <tbody>\n",
       "    <tr>\n",
       "      <th>count</th>\n",
       "      <td>36323.000000</td>\n",
       "    </tr>\n",
       "    <tr>\n",
       "      <th>mean</th>\n",
       "      <td>172.693775</td>\n",
       "    </tr>\n",
       "    <tr>\n",
       "      <th>std</th>\n",
       "      <td>44.991938</td>\n",
       "    </tr>\n",
       "    <tr>\n",
       "      <th>min</th>\n",
       "      <td>23.000000</td>\n",
       "    </tr>\n",
       "    <tr>\n",
       "      <th>25%</th>\n",
       "      <td>161.000000</td>\n",
       "    </tr>\n",
       "    <tr>\n",
       "      <th>50%</th>\n",
       "      <td>166.000000</td>\n",
       "    </tr>\n",
       "    <tr>\n",
       "      <th>75%</th>\n",
       "      <td>173.000000</td>\n",
       "    </tr>\n",
       "    <tr>\n",
       "      <th>max</th>\n",
       "      <td>1534.000000</td>\n",
       "    </tr>\n",
       "  </tbody>\n",
       "</table>\n",
       "</div>"
      ],
      "text/plain": [
       "             length\n",
       "count  36323.000000\n",
       "mean     172.693775\n",
       "std       44.991938\n",
       "min       23.000000\n",
       "25%      161.000000\n",
       "50%      166.000000\n",
       "75%      173.000000\n",
       "max     1534.000000"
      ]
     },
     "execution_count": 37,
     "metadata": {},
     "output_type": "execute_result"
    }
   ],
   "source": [
    "data_ec_g.describe()"
   ]
  },
  {
   "cell_type": "code",
   "execution_count": 42,
   "metadata": {},
   "outputs": [],
   "source": [
    "data_procesed = data_ec_g[(data_ec_g.length <= 256) & (data_ec_g.length >= 128 )]"
   ]
  },
  {
   "cell_type": "code",
   "execution_count": 43,
   "metadata": {},
   "outputs": [
    {
     "data": {
      "text/plain": [
       "count    34637.000000\n",
       "mean       170.372463\n",
       "std         16.490519\n",
       "min        128.000000\n",
       "25%        161.000000\n",
       "50%        166.000000\n",
       "75%        173.000000\n",
       "max        256.000000\n",
       "Name: length, dtype: float64"
      ]
     },
     "execution_count": 43,
     "metadata": {},
     "output_type": "execute_result"
    }
   ],
   "source": [
    "data_procesed.length.describe()"
   ]
  },
  {
   "cell_type": "code",
   "execution_count": 44,
   "metadata": {},
   "outputs": [
    {
     "data": {
      "text/plain": [
       "<AxesSubplot:>"
      ]
     },
     "execution_count": 44,
     "metadata": {},
     "output_type": "execute_result"
    },
    {
     "data": {
      "image/png": "[encoded data removed]",
      "text/plain": [
       "<Figure size 432x288 with 1 Axes>"
      ]
     },
     "metadata": {
      "needs_background": "light"
     },
     "output_type": "display_data"
    }
   ],
   "source": [
    "data_procesed.length.hist()"
   ]
  },
  {
   "cell_type": "code",
   "execution_count": 45,
   "metadata": {},
   "outputs": [
    {
     "data": {
      "text/plain": [
       "['sp|Q86XF0|DYR2_HUMAN',\n",
       " 'sp|Q05762|DRTS1_ARATH',\n",
       " 'sp|P00383|DYR21_ECOLX',\n",
       " 'sp|P13922|DRTS_PLAFK',\n",
       " 'sp|P00374|DYR_HUMAN',\n",
       " 'sp|P0ABQ4|DYR_ECOLI',\n",
       " 'sp|P00375|DYR_MOUSE',\n",
       " 'sp|O02604|DRTS_PLAVI',\n",
       " 'sp|Q920D2|DYR_RAT',\n",
       " 'sp|P00381|DYR_LACCA']"
      ]
     },
     "execution_count": 45,
     "metadata": {},
     "output_type": "execute_result"
    }
   ],
   "source": [
    "identifiers[0:10]"
   ]
  },
  {
   "cell_type": "code",
   "execution_count": 46,
   "metadata": {},
   "outputs": [],
   "source": [
    "identifiers_c = []\n",
    "for identifier in identifiers:\n",
    "    identifiers_c.append(identifier.split(\"|\")[1])"
   ]
  },
  {
   "cell_type": "code",
   "execution_count": 47,
   "metadata": {},
   "outputs": [
    {
     "data": {
      "text/plain": [
       "['Q05762',\n",
       " 'P00383',\n",
       " 'P13922',\n",
       " 'P00374',\n",
       " 'P0ABQ4',\n",
       " 'P00375',\n",
       " 'O02604',\n",
       " 'Q920D2',\n",
       " 'P00381']"
      ]
     },
     "execution_count": 47,
     "metadata": {},
     "output_type": "execute_result"
    }
   ],
   "source": [
    "identifiers_c[1:10]"
   ]
  },
  {
   "cell_type": "code",
   "execution_count": 48,
   "metadata": {},
   "outputs": [],
   "source": [
    "identi_seq_dict = {identifiers_c[x]:sequences[x] for x in range(len(identifiers_c))}"
   ]
  },
  {
   "cell_type": "code",
   "execution_count": 49,
   "metadata": {},
   "outputs": [
    {
     "name": "stderr",
     "output_type": "stream",
     "text": [
      "<ipython-input-49-56c58128cfb2>:1: SettingWithCopyWarning: \n",
      "A value is trying to be set on a copy of a slice from a DataFrame.\n",
      "Try using .loc[row_indexer,col_indexer] = value instead\n",
      "\n",
      "See the caveats in the documentation: https://pandas.pydata.org/pandas-docs/stable/user_guide/indexing.html#returning-a-view-versus-a-copy\n",
      "  data_procesed[\"sequence\"] = data_procesed.entry.apply(lambda row: identi_seq_dict[row])\n"
     ]
    }
   ],
   "source": [
    "data_procesed[\"sequence\"] = data_procesed.entry.apply(lambda row: identi_seq_dict[row])"
   ]
  },
  {
   "cell_type": "code",
   "execution_count": 50,
   "metadata": {},
   "outputs": [
    {
     "data": {
      "text/html": [
       "<div>\n",
       "<style scoped>\n",
       "    .dataframe tbody tr th:only-of-type {\n",
       "        vertical-align: middle;\n",
       "    }\n",
       "\n",
       "    .dataframe tbody tr th {\n",
       "        vertical-align: top;\n",
       "    }\n",
       "\n",
       "    .dataframe thead th {\n",
       "        text-align: right;\n",
       "    }\n",
       "</style>\n",
       "<table border=\"1\" class=\"dataframe\">\n",
       "  <thead>\n",
       "    <tr style=\"text-align: right;\">\n",
       "      <th></th>\n",
       "      <th>entry</th>\n",
       "      <th>entry_name</th>\n",
       "      <th>status</th>\n",
       "      <th>protein_names</th>\n",
       "      <th>gene_names</th>\n",
       "      <th>organism</th>\n",
       "      <th>length</th>\n",
       "      <th>taxonomic</th>\n",
       "      <th>EC</th>\n",
       "      <th>sequence</th>\n",
       "    </tr>\n",
       "  </thead>\n",
       "  <tbody>\n",
       "    <tr>\n",
       "      <th>0</th>\n",
       "      <td>Q86XF0</td>\n",
       "      <td>DYR2_HUMAN</td>\n",
       "      <td>reviewed</td>\n",
       "      <td>Dihydrofolate reductase 2, mitochondrial (Dihy...</td>\n",
       "      <td>DHFR2 DHFRL1 DHFRP4</td>\n",
       "      <td>Homo sapiens (Human)</td>\n",
       "      <td>187</td>\n",
       "      <td>cellular organisms, Eukaryota, Opisthokonta, M...</td>\n",
       "      <td>1.5.1.3</td>\n",
       "      <td>MFLLLNCIVAVSQNMGIGKNGDLPRPPLRNEFRYFQRMTTTSSVEG...</td>\n",
       "    </tr>\n",
       "    <tr>\n",
       "      <th>4</th>\n",
       "      <td>P00374</td>\n",
       "      <td>DYR_HUMAN</td>\n",
       "      <td>reviewed</td>\n",
       "      <td>Dihydrofolate reductase (EC 1.5.1.3)</td>\n",
       "      <td>DHFR</td>\n",
       "      <td>Homo sapiens (Human)</td>\n",
       "      <td>187</td>\n",
       "      <td>cellular organisms, Eukaryota, Opisthokonta, M...</td>\n",
       "      <td>1.5.1.3</td>\n",
       "      <td>MVGSLNCIVAVSQNMGIGKNGDLPWPPLRNEFRYFQRMTTTSSVEG...</td>\n",
       "    </tr>\n",
       "    <tr>\n",
       "      <th>5</th>\n",
       "      <td>P0ABQ4</td>\n",
       "      <td>DYR_ECOLI</td>\n",
       "      <td>reviewed</td>\n",
       "      <td>Dihydrofolate reductase (EC 1.5.1.3)</td>\n",
       "      <td>folA tmrA b0048 JW0047</td>\n",
       "      <td>Escherichia coli (strain K12)</td>\n",
       "      <td>159</td>\n",
       "      <td>cellular organisms, Bacteria, Proteobacteria, ...</td>\n",
       "      <td>1.5.1.3</td>\n",
       "      <td>MISLIAALAVDRVIGMENAMPWNLPADLAWFKRNTLNKPVIMGRHT...</td>\n",
       "    </tr>\n",
       "    <tr>\n",
       "      <th>6</th>\n",
       "      <td>P00375</td>\n",
       "      <td>DYR_MOUSE</td>\n",
       "      <td>reviewed</td>\n",
       "      <td>Dihydrofolate reductase (EC 1.5.1.3)</td>\n",
       "      <td>Dhfr</td>\n",
       "      <td>Mus musculus (Mouse)</td>\n",
       "      <td>187</td>\n",
       "      <td>cellular organisms, Eukaryota, Opisthokonta, M...</td>\n",
       "      <td>1.5.1.3</td>\n",
       "      <td>MVRPLNCIVAVSQNMGIGKNGDLPWPPLRNEFKYFQRMTTTSSVEG...</td>\n",
       "    </tr>\n",
       "    <tr>\n",
       "      <th>8</th>\n",
       "      <td>Q920D2</td>\n",
       "      <td>DYR_RAT</td>\n",
       "      <td>reviewed</td>\n",
       "      <td>Dihydrofolate reductase (EC 1.5.1.3)</td>\n",
       "      <td>Dhfr</td>\n",
       "      <td>Rattus norvegicus (Rat)</td>\n",
       "      <td>187</td>\n",
       "      <td>cellular organisms, Eukaryota, Opisthokonta, M...</td>\n",
       "      <td>1.5.1.3</td>\n",
       "      <td>MVRPLNCIVAVSQNMGIGKNGDLPWPLLRNEFKYFQRMTTTSSVEG...</td>\n",
       "    </tr>\n",
       "  </tbody>\n",
       "</table>\n",
       "</div>"
      ],
      "text/plain": [
       "    entry  entry_name    status  \\\n",
       "0  Q86XF0  DYR2_HUMAN  reviewed   \n",
       "4  P00374   DYR_HUMAN  reviewed   \n",
       "5  P0ABQ4   DYR_ECOLI  reviewed   \n",
       "6  P00375   DYR_MOUSE  reviewed   \n",
       "8  Q920D2     DYR_RAT  reviewed   \n",
       "\n",
       "                                       protein_names              gene_names  \\\n",
       "0  Dihydrofolate reductase 2, mitochondrial (Dihy...     DHFR2 DHFRL1 DHFRP4   \n",
       "4               Dihydrofolate reductase (EC 1.5.1.3)                    DHFR   \n",
       "5               Dihydrofolate reductase (EC 1.5.1.3)  folA tmrA b0048 JW0047   \n",
       "6               Dihydrofolate reductase (EC 1.5.1.3)                    Dhfr   \n",
       "8               Dihydrofolate reductase (EC 1.5.1.3)                    Dhfr   \n",
       "\n",
       "                        organism  length  \\\n",
       "0           Homo sapiens (Human)     187   \n",
       "4           Homo sapiens (Human)     187   \n",
       "5  Escherichia coli (strain K12)     159   \n",
       "6           Mus musculus (Mouse)     187   \n",
       "8        Rattus norvegicus (Rat)     187   \n",
       "\n",
       "                                           taxonomic       EC  \\\n",
       "0  cellular organisms, Eukaryota, Opisthokonta, M...  1.5.1.3   \n",
       "4  cellular organisms, Eukaryota, Opisthokonta, M...  1.5.1.3   \n",
       "5  cellular organisms, Bacteria, Proteobacteria, ...  1.5.1.3   \n",
       "6  cellular organisms, Eukaryota, Opisthokonta, M...  1.5.1.3   \n",
       "8  cellular organisms, Eukaryota, Opisthokonta, M...  1.5.1.3   \n",
       "\n",
       "                                            sequence  \n",
       "0  MFLLLNCIVAVSQNMGIGKNGDLPRPPLRNEFRYFQRMTTTSSVEG...  \n",
       "4  MVGSLNCIVAVSQNMGIGKNGDLPWPPLRNEFRYFQRMTTTSSVEG...  \n",
       "5  MISLIAALAVDRVIGMENAMPWNLPADLAWFKRNTLNKPVIMGRHT...  \n",
       "6  MVRPLNCIVAVSQNMGIGKNGDLPWPPLRNEFKYFQRMTTTSSVEG...  \n",
       "8  MVRPLNCIVAVSQNMGIGKNGDLPWPLLRNEFKYFQRMTTTSSVEG...  "
      ]
     },
     "execution_count": 50,
     "metadata": {},
     "output_type": "execute_result"
    }
   ],
   "source": [
    "data_procesed.head()"
   ]
  },
  {
   "cell_type": "code",
   "execution_count": 51,
   "metadata": {},
   "outputs": [
    {
     "data": {
      "text/html": [
       "<div>\n",
       "<style scoped>\n",
       "    .dataframe tbody tr th:only-of-type {\n",
       "        vertical-align: middle;\n",
       "    }\n",
       "\n",
       "    .dataframe tbody tr th {\n",
       "        vertical-align: top;\n",
       "    }\n",
       "\n",
       "    .dataframe thead th {\n",
       "        text-align: right;\n",
       "    }\n",
       "</style>\n",
       "<table border=\"1\" class=\"dataframe\">\n",
       "  <thead>\n",
       "    <tr style=\"text-align: right;\">\n",
       "      <th></th>\n",
       "      <th>entry</th>\n",
       "      <th>entry_name</th>\n",
       "      <th>status</th>\n",
       "      <th>protein_names</th>\n",
       "      <th>gene_names</th>\n",
       "      <th>organism</th>\n",
       "      <th>length</th>\n",
       "      <th>taxonomic</th>\n",
       "      <th>EC</th>\n",
       "      <th>sequence</th>\n",
       "    </tr>\n",
       "  </thead>\n",
       "  <tbody>\n",
       "    <tr>\n",
       "      <th>0</th>\n",
       "      <td>Q86XF0</td>\n",
       "      <td>DYR2_HUMAN</td>\n",
       "      <td>reviewed</td>\n",
       "      <td>Dihydrofolate reductase 2, mitochondrial (Dihy...</td>\n",
       "      <td>DHFR2 DHFRL1 DHFRP4</td>\n",
       "      <td>Homo sapiens (Human)</td>\n",
       "      <td>187</td>\n",
       "      <td>cellular organisms, Eukaryota, Opisthokonta, M...</td>\n",
       "      <td>1.5.1.3</td>\n",
       "      <td>MFLLLNCIVAVSQNMGIGKNGDLPRPPLRNEFRYFQRMTTTSSVEG...</td>\n",
       "    </tr>\n",
       "    <tr>\n",
       "      <th>4</th>\n",
       "      <td>P00374</td>\n",
       "      <td>DYR_HUMAN</td>\n",
       "      <td>reviewed</td>\n",
       "      <td>Dihydrofolate reductase (EC 1.5.1.3)</td>\n",
       "      <td>DHFR</td>\n",
       "      <td>Homo sapiens (Human)</td>\n",
       "      <td>187</td>\n",
       "      <td>cellular organisms, Eukaryota, Opisthokonta, M...</td>\n",
       "      <td>1.5.1.3</td>\n",
       "      <td>MVGSLNCIVAVSQNMGIGKNGDLPWPPLRNEFRYFQRMTTTSSVEG...</td>\n",
       "    </tr>\n",
       "    <tr>\n",
       "      <th>5</th>\n",
       "      <td>P0ABQ4</td>\n",
       "      <td>DYR_ECOLI</td>\n",
       "      <td>reviewed</td>\n",
       "      <td>Dihydrofolate reductase (EC 1.5.1.3)</td>\n",
       "      <td>folA tmrA b0048 JW0047</td>\n",
       "      <td>Escherichia coli (strain K12)</td>\n",
       "      <td>159</td>\n",
       "      <td>cellular organisms, Bacteria, Proteobacteria, ...</td>\n",
       "      <td>1.5.1.3</td>\n",
       "      <td>MISLIAALAVDRVIGMENAMPWNLPADLAWFKRNTLNKPVIMGRHT...</td>\n",
       "    </tr>\n",
       "    <tr>\n",
       "      <th>6</th>\n",
       "      <td>P00375</td>\n",
       "      <td>DYR_MOUSE</td>\n",
       "      <td>reviewed</td>\n",
       "      <td>Dihydrofolate reductase (EC 1.5.1.3)</td>\n",
       "      <td>Dhfr</td>\n",
       "      <td>Mus musculus (Mouse)</td>\n",
       "      <td>187</td>\n",
       "      <td>cellular organisms, Eukaryota, Opisthokonta, M...</td>\n",
       "      <td>1.5.1.3</td>\n",
       "      <td>MVRPLNCIVAVSQNMGIGKNGDLPWPPLRNEFKYFQRMTTTSSVEG...</td>\n",
       "    </tr>\n",
       "    <tr>\n",
       "      <th>8</th>\n",
       "      <td>Q920D2</td>\n",
       "      <td>DYR_RAT</td>\n",
       "      <td>reviewed</td>\n",
       "      <td>Dihydrofolate reductase (EC 1.5.1.3)</td>\n",
       "      <td>Dhfr</td>\n",
       "      <td>Rattus norvegicus (Rat)</td>\n",
       "      <td>187</td>\n",
       "      <td>cellular organisms, Eukaryota, Opisthokonta, M...</td>\n",
       "      <td>1.5.1.3</td>\n",
       "      <td>MVRPLNCIVAVSQNMGIGKNGDLPWPLLRNEFKYFQRMTTTSSVEG...</td>\n",
       "    </tr>\n",
       "    <tr>\n",
       "      <th>...</th>\n",
       "      <td>...</td>\n",
       "      <td>...</td>\n",
       "      <td>...</td>\n",
       "      <td>...</td>\n",
       "      <td>...</td>\n",
       "      <td>...</td>\n",
       "      <td>...</td>\n",
       "      <td>...</td>\n",
       "      <td>...</td>\n",
       "      <td>...</td>\n",
       "    </tr>\n",
       "    <tr>\n",
       "      <th>74197</th>\n",
       "      <td>F7CRR0</td>\n",
       "      <td>F7CRR0_XENTR</td>\n",
       "      <td>unreviewed</td>\n",
       "      <td>Dihydrofolate reductase (EC 1.5.1.3)</td>\n",
       "      <td>dhfr</td>\n",
       "      <td>Xenopus tropicalis (Western clawed frog) (Silu...</td>\n",
       "      <td>189</td>\n",
       "      <td>cellular organisms, Eukaryota, Opisthokonta, M...</td>\n",
       "      <td>1.5.1.3</td>\n",
       "      <td>MRNPFLHAVVAVCPPNQGIGKEGSLPWPLLRNEFKHFQRLTMTPTV...</td>\n",
       "    </tr>\n",
       "    <tr>\n",
       "      <th>74198</th>\n",
       "      <td>A0A6P7Z1V6</td>\n",
       "      <td>A0A6P7Z1V6_9AMPH</td>\n",
       "      <td>unreviewed</td>\n",
       "      <td>Dihydrofolate reductase (EC 1.5.1.3)</td>\n",
       "      <td>LOC115477775</td>\n",
       "      <td>Microcaecilia unicolor</td>\n",
       "      <td>197</td>\n",
       "      <td>cellular organisms, Eukaryota, Opisthokonta, M...</td>\n",
       "      <td>1.5.1.3</td>\n",
       "      <td>MCDAEGRVDPKPIRLVAAVSRNMGIGQKGDLPWNLPNEFKYFIEKI...</td>\n",
       "    </tr>\n",
       "    <tr>\n",
       "      <th>74199</th>\n",
       "      <td>B5X910</td>\n",
       "      <td>B5X910_SALSA</td>\n",
       "      <td>unreviewed</td>\n",
       "      <td>Dihydrofolate reductase (EC 1.5.1.3)</td>\n",
       "      <td>DYR</td>\n",
       "      <td>Salmo salar (Atlantic salmon)</td>\n",
       "      <td>190</td>\n",
       "      <td>cellular organisms, Eukaryota, Opisthokonta, M...</td>\n",
       "      <td>1.5.1.3</td>\n",
       "      <td>MSRVPNCIVAVCPDVGIGNNGNLPWHPKRLNNEFKYFQKMTMTSSV...</td>\n",
       "    </tr>\n",
       "    <tr>\n",
       "      <th>74200</th>\n",
       "      <td>A0A7K7WJA0</td>\n",
       "      <td>A0A7K7WJA0_9AVES</td>\n",
       "      <td>unreviewed</td>\n",
       "      <td>Dihydrofolate reductase (EC 1.5.1.3) (Fragment)</td>\n",
       "      <td>Dhfr NOTJUL_R13906</td>\n",
       "      <td>Nothocercus julius</td>\n",
       "      <td>145</td>\n",
       "      <td>cellular organisms, Eukaryota, Opisthokonta, M...</td>\n",
       "      <td>1.5.1.3</td>\n",
       "      <td>GKQNAVIMGKKTWFSIPEKNRPLKDRINIVLSRELKELPRGAHYLS...</td>\n",
       "    </tr>\n",
       "    <tr>\n",
       "      <th>74202</th>\n",
       "      <td>A0A2P4TEI3</td>\n",
       "      <td>A0A2P4TEI3_BAMTH</td>\n",
       "      <td>unreviewed</td>\n",
       "      <td>Dihydrofolate reductase (EC 1.5.1.3)</td>\n",
       "      <td>CIB84_001467</td>\n",
       "      <td>Bambusicola thoracicus (Chinese bamboo-partrid...</td>\n",
       "      <td>190</td>\n",
       "      <td>cellular organisms, Eukaryota, Opisthokonta, M...</td>\n",
       "      <td>1.5.1.3</td>\n",
       "      <td>MVRSLNSIVAVCQNMGIGKDGNLPWPPLRNEYKYFQRMTSTSHVEG...</td>\n",
       "    </tr>\n",
       "  </tbody>\n",
       "</table>\n",
       "<p>34637 rows × 10 columns</p>\n",
       "</div>"
      ],
      "text/plain": [
       "            entry        entry_name      status  \\\n",
       "0          Q86XF0        DYR2_HUMAN    reviewed   \n",
       "4          P00374         DYR_HUMAN    reviewed   \n",
       "5          P0ABQ4         DYR_ECOLI    reviewed   \n",
       "6          P00375         DYR_MOUSE    reviewed   \n",
       "8          Q920D2           DYR_RAT    reviewed   \n",
       "...           ...               ...         ...   \n",
       "74197      F7CRR0      F7CRR0_XENTR  unreviewed   \n",
       "74198  A0A6P7Z1V6  A0A6P7Z1V6_9AMPH  unreviewed   \n",
       "74199      B5X910      B5X910_SALSA  unreviewed   \n",
       "74200  A0A7K7WJA0  A0A7K7WJA0_9AVES  unreviewed   \n",
       "74202  A0A2P4TEI3  A0A2P4TEI3_BAMTH  unreviewed   \n",
       "\n",
       "                                           protein_names  \\\n",
       "0      Dihydrofolate reductase 2, mitochondrial (Dihy...   \n",
       "4                   Dihydrofolate reductase (EC 1.5.1.3)   \n",
       "5                   Dihydrofolate reductase (EC 1.5.1.3)   \n",
       "6                   Dihydrofolate reductase (EC 1.5.1.3)   \n",
       "8                   Dihydrofolate reductase (EC 1.5.1.3)   \n",
       "...                                                  ...   \n",
       "74197               Dihydrofolate reductase (EC 1.5.1.3)   \n",
       "74198               Dihydrofolate reductase (EC 1.5.1.3)   \n",
       "74199               Dihydrofolate reductase (EC 1.5.1.3)   \n",
       "74200    Dihydrofolate reductase (EC 1.5.1.3) (Fragment)   \n",
       "74202               Dihydrofolate reductase (EC 1.5.1.3)   \n",
       "\n",
       "                   gene_names  \\\n",
       "0         DHFR2 DHFRL1 DHFRP4   \n",
       "4                        DHFR   \n",
       "5      folA tmrA b0048 JW0047   \n",
       "6                        Dhfr   \n",
       "8                        Dhfr   \n",
       "...                       ...   \n",
       "74197                    dhfr   \n",
       "74198            LOC115477775   \n",
       "74199                     DYR   \n",
       "74200      Dhfr NOTJUL_R13906   \n",
       "74202            CIB84_001467   \n",
       "\n",
       "                                                organism  length  \\\n",
       "0                                   Homo sapiens (Human)     187   \n",
       "4                                   Homo sapiens (Human)     187   \n",
       "5                          Escherichia coli (strain K12)     159   \n",
       "6                                   Mus musculus (Mouse)     187   \n",
       "8                                Rattus norvegicus (Rat)     187   \n",
       "...                                                  ...     ...   \n",
       "74197  Xenopus tropicalis (Western clawed frog) (Silu...     189   \n",
       "74198                             Microcaecilia unicolor     197   \n",
       "74199                      Salmo salar (Atlantic salmon)     190   \n",
       "74200                                 Nothocercus julius     145   \n",
       "74202  Bambusicola thoracicus (Chinese bamboo-partrid...     190   \n",
       "\n",
       "                                               taxonomic       EC  \\\n",
       "0      cellular organisms, Eukaryota, Opisthokonta, M...  1.5.1.3   \n",
       "4      cellular organisms, Eukaryota, Opisthokonta, M...  1.5.1.3   \n",
       "5      cellular organisms, Bacteria, Proteobacteria, ...  1.5.1.3   \n",
       "6      cellular organisms, Eukaryota, Opisthokonta, M...  1.5.1.3   \n",
       "8      cellular organisms, Eukaryota, Opisthokonta, M...  1.5.1.3   \n",
       "...                                                  ...      ...   \n",
       "74197  cellular organisms, Eukaryota, Opisthokonta, M...  1.5.1.3   \n",
       "74198  cellular organisms, Eukaryota, Opisthokonta, M...  1.5.1.3   \n",
       "74199  cellular organisms, Eukaryota, Opisthokonta, M...  1.5.1.3   \n",
       "74200  cellular organisms, Eukaryota, Opisthokonta, M...  1.5.1.3   \n",
       "74202  cellular organisms, Eukaryota, Opisthokonta, M...  1.5.1.3   \n",
       "\n",
       "                                                sequence  \n",
       "0      MFLLLNCIVAVSQNMGIGKNGDLPRPPLRNEFRYFQRMTTTSSVEG...  \n",
       "4      MVGSLNCIVAVSQNMGIGKNGDLPWPPLRNEFRYFQRMTTTSSVEG...  \n",
       "5      MISLIAALAVDRVIGMENAMPWNLPADLAWFKRNTLNKPVIMGRHT...  \n",
       "6      MVRPLNCIVAVSQNMGIGKNGDLPWPPLRNEFKYFQRMTTTSSVEG...  \n",
       "8      MVRPLNCIVAVSQNMGIGKNGDLPWPLLRNEFKYFQRMTTTSSVEG...  \n",
       "...                                                  ...  \n",
       "74197  MRNPFLHAVVAVCPPNQGIGKEGSLPWPLLRNEFKHFQRLTMTPTV...  \n",
       "74198  MCDAEGRVDPKPIRLVAAVSRNMGIGQKGDLPWNLPNEFKYFIEKI...  \n",
       "74199  MSRVPNCIVAVCPDVGIGNNGNLPWHPKRLNNEFKYFQKMTMTSSV...  \n",
       "74200  GKQNAVIMGKKTWFSIPEKNRPLKDRINIVLSRELKELPRGAHYLS...  \n",
       "74202  MVRSLNSIVAVCQNMGIGKDGNLPWPPLRNEYKYFQRMTSTSHVEG...  \n",
       "\n",
       "[34637 rows x 10 columns]"
      ]
     },
     "execution_count": 51,
     "metadata": {},
     "output_type": "execute_result"
    }
   ],
   "source": [
    "data_procesed"
   ]
  },
  {
   "cell_type": "code",
   "execution_count": 52,
   "metadata": {},
   "outputs": [],
   "source": [
    "### Filter non canonical aa\n",
    "data_procesed.to_csv(\"dihydrofolato.csv\")"
   ]
  }
 ],
 "metadata": {
  "kernelspec": {
   "display_name": "Python 3",
   "language": "python",
   "name": "python3"
  },
  "language_info": {
   "codemirror_mode": {
    "name": "ipython",
    "version": 3
   },
   "file_extension": ".py",
   "mimetype": "text/x-python",
   "name": "python",
   "nbconvert_exporter": "python",
   "pygments_lexer": "ipython3",
   "version": "3.8.10"
  }
 },
 "nbformat": 4,
 "nbformat_minor": 4
}
